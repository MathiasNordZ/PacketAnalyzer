{
 "cells": [
  {
   "cell_type": "markdown",
   "metadata": {},
   "source": [
    "Importing all necessary dependencies."
   ]
  },
  {
   "cell_type": "code",
   "execution_count": 28,
   "metadata": {},
   "outputs": [],
   "source": [
    "import pandas as pd \n",
    "from glob import glob\n",
    "from sklearn.preprocessing import MinMaxScaler, OneHotEncoder, LabelEncoder\n",
    "from sklearn.metrics import classification_report, f1_score, make_scorer\n",
    "from sklearn.pipeline import Pipeline\n",
    "from sklearn.impute import SimpleImputer\n",
    "from sklearn.compose import ColumnTransformer\n",
    "from sklearn.ensemble import RandomForestClassifier\n",
    "from sklearn.feature_selection import SelectKBest, f_classif\n",
    "from sklearn.model_selection import GridSearchCV, train_test_split, RandomizedSearchCV\n",
    "import joblib\n",
    "import matplotlib.pyplot as plt\n",
    "import numpy as np"
   ]
  },
  {
   "cell_type": "markdown",
   "metadata": {},
   "source": [
    "Importing datasets, extracting x, y values and the numerical/categorical columns."
   ]
  },
  {
   "cell_type": "code",
   "execution_count": null,
   "metadata": {},
   "outputs": [],
   "source": [
    "dataset = glob(\"CICIDS2017/*.csv\")\n",
    "df = pd.concat(map(pd.read_csv, dataset), ignore_index=True)\n",
    "\n",
    "df.columns = df.columns.str.strip()\n",
    "\n",
    "le = LabelEncoder()\n",
    "df[\"Label\"] = df[\"Label\"].astype(str).str.strip()  # clean up label column just in case\n",
    "y = le.fit_transform(df[\"Label\"])\n",
    "X = df.drop(columns=[\"Label\"])\n",
    "\n",
    "X.replace([\"Infinity\", \"-Infinity\", np.inf, -np.inf], np.nan, inplace=True)\n",
    "\n",
    "for col in X.columns:\n",
    "    if X[col].dtype == \"object\":\n",
    "        X[col] = pd.to_numeric(X[col], errors=\"coerce\")\n",
    "\n",
    "X_train, X_test, y_train, y_test = train_test_split(\n",
    "    X, y, test_size=0.2, random_state=42, stratify=y\n",
    ")\n",
    "\n",
    "constant_cols = [col for col in X_train.columns if X_train[col].nunique() <= 1]\n",
    "X_train.drop(columns=constant_cols, inplace=True)\n",
    "X_test.drop(columns=constant_cols, inplace=True)\n",
    "\n",
    "# Re-check for any remaining infs or NaNs just to be safe\n",
    "X_train.replace([np.inf, -np.inf], np.nan, inplace=True)\n",
    "X_test.replace([np.inf, -np.inf], np.nan, inplace=True)\n",
    "\n",
    "num_cols = X_train.select_dtypes(include=[\"int64\", \"float64\"]).columns.tolist()\n",
    "cat_cols = X_train.select_dtypes(include=[\"object\", \"category\"]).columns.tolist()\n",
    "\n",
    "joblib.dump(le, \"label_encoder.pkl\")\n",
    "\n",
    "print(f\"X_train shape: {X_train.shape}\")\n",
    "print(f\"Numerical columns: {len(num_cols)}, Categorical columns: {len(cat_cols)}\")\n",
    "print(f\"Class distribution in y_train: {np.bincount(y_train)}\")"
   ]
  },
  {
   "cell_type": "markdown",
   "metadata": {},
   "source": [
    "This step does the following:\n",
    "- Creating pipelines for numerical and categorical values.\n",
    "- Creating a column transformation for the pipelines.\n",
    "- Creating a model pipeline."
   ]
  },
  {
   "cell_type": "code",
   "execution_count": 30,
   "metadata": {},
   "outputs": [],
   "source": [
    "num_pipeline = Pipeline(steps=[\n",
    "    (\"impute\", SimpleImputer(strategy=\"mean\")),\n",
    "    (\"scale\", MinMaxScaler())\n",
    "])\n",
    "\n",
    "cat_pipeline = Pipeline(steps=[\n",
    "    (\"impute\", SimpleImputer(strategy=\"most_frequent\")),\n",
    "    (\"one-hot\", OneHotEncoder(handle_unknown=\"ignore\", sparse_output=False))\n",
    "])\n",
    "\n",
    "col_trans = ColumnTransformer(transformers=[\n",
    "    (\"num_pipeline\", num_pipeline, num_cols),\n",
    "    (\"cat_pipeline\", cat_pipeline, cat_cols)\n",
    "],\n",
    "remainder=\"drop\",\n",
    "n_jobs=-1\n",
    ")\n",
    "\n",
    "random_forest_classifier = RandomForestClassifier(random_state=42)\n",
    "\n",
    "model_pipeline = Pipeline(steps=[\n",
    "    (\"col_trans\", col_trans),\n",
    "    (\"select\", SelectKBest(score_func=f_classif)),\n",
    "    (\"model\", random_forest_classifier)\n",
    "])"
   ]
  },
  {
   "cell_type": "code",
   "execution_count": 31,
   "metadata": {},
   "outputs": [],
   "source": [
    "param_distribution = {\n",
    "    \"select__k\": [10, 20, 30, \"all\"],\n",
    "    \"model__n_estimators\": [100, 200],\n",
    "    \"model__max_depth\": [None, 10, 20],\n",
    "    \"model__min_samples_split\": [2, 5],\n",
    "}\n",
    "\n",
    "f1_weighted = make_scorer(f1_score, average=\"weighted\")\n",
    "\n",
    "random_search = RandomizedSearchCV(\n",
    "    estimator=model_pipeline,\n",
    "    param_distributions=param_distribution,\n",
    "    cv=5,\n",
    "    scoring=f1_weighted,\n",
    "    n_jobs=-1,\n",
    "    verbose=2,\n",
    "    random_state=42,\n",
    "    n_iter=20\n",
    ")"
   ]
  },
  {
   "cell_type": "markdown",
   "metadata": {},
   "source": [
    "Fitting against the x and y values, to get the best model using grid search."
   ]
  },
  {
   "cell_type": "code",
   "execution_count": null,
   "metadata": {},
   "outputs": [],
   "source": [
    "random_search.fit(X_train, y_train)\n",
    "\n",
    "best_model = random_search.best_estimator_\n",
    "joblib.dump(random_search.best_estimator_, \"network_intrusion_model.pkl\")\n",
    "\n",
    "print(\"Best Parameters:\", random_search.best_params_)\n",
    "print(\"Best F1 Score:\", random_search.best_score_)"
   ]
  },
  {
   "cell_type": "code",
   "execution_count": null,
   "metadata": {},
   "outputs": [],
   "source": [
    "loaded_model = joblib.load(\"network_intrusion_model.pkl\")\n",
    "y_pred = loaded_model.predict(X_test)"
   ]
  },
  {
   "cell_type": "markdown",
   "metadata": {},
   "source": [
    "Printing a report of the classification."
   ]
  },
  {
   "cell_type": "code",
   "execution_count": null,
   "metadata": {},
   "outputs": [],
   "source": [
    "print(classification_report(y_test, y_pred, target_names=le.classes_))"
   ]
  }
 ],
 "metadata": {
  "kernelspec": {
   "display_name": "venv",
   "language": "python",
   "name": "python3"
  },
  "language_info": {
   "codemirror_mode": {
    "name": "ipython",
    "version": 3
   },
   "file_extension": ".py",
   "mimetype": "text/x-python",
   "name": "python",
   "nbconvert_exporter": "python",
   "pygments_lexer": "ipython3",
   "version": "3.13.3"
  }
 },
 "nbformat": 4,
 "nbformat_minor": 2
}
