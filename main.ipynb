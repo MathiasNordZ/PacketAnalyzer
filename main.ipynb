{
 "cells": [
  {
   "cell_type": "markdown",
   "metadata": {},
   "source": [
    "Importing all necessary dependencies."
   ]
  },
  {
   "cell_type": "code",
   "execution_count": 13,
   "metadata": {},
   "outputs": [],
   "source": [
    "import pandas as pd\n",
    "from glob import glob\n",
    "from sklearn.preprocessing import MinMaxScaler, OneHotEncoder, LabelEncoder\n",
    "from sklearn.metrics import classification_report, f1_score, make_scorer\n",
    "from sklearn.pipeline import Pipeline\n",
    "from sklearn.impute import SimpleImputer\n",
    "from sklearn.compose import ColumnTransformer\n",
    "from sklearn.feature_selection import SelectKBest, f_classif\n",
    "from sklearn.model_selection import train_test_split, RandomizedSearchCV\n",
    "from sklearn.utils.class_weight import compute_sample_weight\n",
    "from xgboost import XGBClassifier\n",
    "import joblib\n",
    "import numpy as np"
   ]
  },
  {
   "cell_type": "markdown",
   "metadata": {},
   "source": [
    "Importing datasets, extracting x, y values and the numerical/categorical columns."
   ]
  },
  {
   "cell_type": "code",
   "execution_count": 14,
   "metadata": {},
   "outputs": [
    {
     "name": "stdout",
     "output_type": "stream",
     "text": [
      "X_train shape: (2264594, 70)\n",
      "Numerical columns: 70, Categorical columns: 0\n",
      "Class distribution in y_train: [1818477    1573  102421    8234  184858    4399    4637    6350       9\n",
      "      29  127144    4718    1206      17     522]\n"
     ]
    }
   ],
   "source": [
    "dataset = glob(\"CICIDS2017/*.csv\")\n",
    "df = pd.concat(map(pd.read_csv, dataset), ignore_index=True)\n",
    "\n",
    "df.columns = df.columns.str.strip()\n",
    "\n",
    "le = LabelEncoder()\n",
    "df[\"Label\"] = df[\"Label\"].astype(str).str.strip()  # clean up label column just in case\n",
    "y = le.fit_transform(df[\"Label\"])\n",
    "X = df.drop(columns=[\"Label\"])\n",
    "\n",
    "X.replace([\"Infinity\", \"-Infinity\", np.inf, -np.inf], np.nan, inplace=True)\n",
    "\n",
    "for col in X.columns:\n",
    "    if X[col].dtype == \"object\":\n",
    "        X[col] = pd.to_numeric(X[col], errors=\"coerce\")\n",
    "\n",
    "X_train, X_test, y_train, y_test = train_test_split(\n",
    "    X, y, test_size=0.2, random_state=42, stratify=y\n",
    ")\n",
    "\n",
    "\n",
    "sample_weights = compute_sample_weight(class_weight=\"balanced\", y=y_train)\n",
    "\n",
    "constant_cols = [col for col in X_train.columns if X_train[col].nunique() <= 1]\n",
    "X_train.drop(columns=constant_cols, inplace=True)\n",
    "X_test.drop(columns=constant_cols, inplace=True)\n",
    "\n",
    "# Re-check for any remaining infs or NaNs just to be safe\n",
    "X_train.replace([np.inf, -np.inf], np.nan, inplace=True)\n",
    "X_test.replace([np.inf, -np.inf], np.nan, inplace=True)\n",
    "\n",
    "num_cols = X_train.select_dtypes(include=[\"int64\", \"float64\"]).columns.tolist()\n",
    "cat_cols = X_train.select_dtypes(include=[\"object\", \"category\"]).columns.tolist()\n",
    "\n",
    "joblib.dump(le, \"label_encoder.pkl\")\n",
    "\n",
    "print(f\"X_train shape: {X_train.shape}\")\n",
    "print(f\"Numerical columns: {len(num_cols)}, Categorical columns: {len(cat_cols)}\")\n",
    "print(f\"Class distribution in y_train: {np.bincount(y_train)}\")"
   ]
  },
  {
   "cell_type": "markdown",
   "metadata": {},
   "source": [
    "This step does the following:\n",
    "- Creating pipelines for numerical and categorical values.\n",
    "- Creating a column transformation for the pipelines.\n",
    "- Creating a model pipeline."
   ]
  },
  {
   "cell_type": "code",
   "execution_count": 15,
   "metadata": {},
   "outputs": [],
   "source": [
    "num_pipeline = Pipeline(steps=[\n",
    "    (\"impute\", SimpleImputer(strategy=\"mean\")),\n",
    "    (\"scale\", MinMaxScaler())\n",
    "])\n",
    "\n",
    "cat_pipeline = Pipeline(steps=[\n",
    "    (\"impute\", SimpleImputer(strategy=\"most_frequent\")),\n",
    "    (\"one-hot\", OneHotEncoder(handle_unknown=\"ignore\", sparse_output=False))\n",
    "])\n",
    "\n",
    "col_trans = ColumnTransformer(transformers=[\n",
    "    (\"num_pipeline\", num_pipeline, num_cols),\n",
    "    (\"cat_pipeline\", cat_pipeline, cat_cols)\n",
    "],\n",
    "remainder=\"drop\",\n",
    "n_jobs=-1\n",
    ")\n",
    "\n",
    "xgb_classifier = XGBClassifier(\n",
    "    tree_method=\"hist\",\n",
    "    device=\"cuda\",\n",
    "    max_bin=256,\n",
    "    max_depth=10,\n",
    "    subsample=0.8,\n",
    "    n_estimators=100,\n",
    "    learning_rate=0.1,\n",
    "    eval_metric=\"mlogloss\",\n",
    "    random_state=42\n",
    ")\n",
    "\n",
    "model_pipeline = Pipeline(steps=[\n",
    "    (\"col_trans\", col_trans),\n",
    "    (\"select\", SelectKBest(score_func=f_classif)),\n",
    "    (\"model\", xgb_classifier)\n",
    "])"
   ]
  },
  {
   "cell_type": "code",
   "execution_count": 16,
   "metadata": {},
   "outputs": [],
   "source": [
    "param_distribution = {\n",
    "    \"select__k\": [10, 20, 30, \"all\"],\n",
    "    \"model__n_estimators\": [100, 200],\n",
    "    \"model__max_depth\": [6, 10, 15],\n",
    "    \"model__learning_rate\": [0.01, 0.1, 0.2],\n",
    "    \"model__subsample\": [0.8, 1.0],\n",
    "}\n",
    "\n",
    "f1_weighted = make_scorer(f1_score, average=\"weighted\")\n",
    "\n",
    "random_search = RandomizedSearchCV(\n",
    "    estimator=model_pipeline,\n",
    "    param_distributions=param_distribution,\n",
    "    cv=3,\n",
    "    n_iter=10,\n",
    "    scoring=f1_weighted,\n",
    "    n_jobs=4,\n",
    "    verbose=2,\n",
    "    random_state=42\n",
    ")"
   ]
  },
  {
   "cell_type": "markdown",
   "metadata": {},
   "source": [
    "Fitting against the x and y values, to get the best model using grid search."
   ]
  },
  {
   "cell_type": "code",
   "execution_count": 17,
   "metadata": {},
   "outputs": [
    {
     "name": "stdout",
     "output_type": "stream",
     "text": [
      "Fitting 3 folds for each of 10 candidates, totalling 30 fits\n"
     ]
    },
    {
     "name": "stderr",
     "output_type": "stream",
     "text": [
      "/home/mathias-nord/Desktop/Programmering/PacketAnalyzer/venv/lib/python3.12/site-packages/xgboost/core.py:729: UserWarning: [16:29:14] WARNING: /workspace/src/common/error_msg.cc:58: Falling back to prediction using DMatrix due to mismatched devices. This might lead to higher memory usage and slower performance. XGBoost is running on: cuda:0, while the input data is on: cpu.\n",
      "Potential solutions:\n",
      "- Use a data structure that matches the device ordinal in the booster.\n",
      "- Set the device for booster before call to inplace_predict.\n",
      "\n",
      "This warning will only be shown once.\n",
      "\n",
      "  return func(**kwargs)\n"
     ]
    },
    {
     "name": "stdout",
     "output_type": "stream",
     "text": [
      "[CV] END model__learning_rate=0.2, model__max_depth=10, model__n_estimators=100, model__subsample=1.0, select__k=20; total time=  53.1s\n"
     ]
    },
    {
     "name": "stderr",
     "output_type": "stream",
     "text": [
      "/home/mathias-nord/Desktop/Programmering/PacketAnalyzer/venv/lib/python3.12/site-packages/xgboost/core.py:729: UserWarning: [16:29:15] WARNING: /workspace/src/common/error_msg.cc:58: Falling back to prediction using DMatrix due to mismatched devices. This might lead to higher memory usage and slower performance. XGBoost is running on: cuda:0, while the input data is on: cpu.\n",
      "Potential solutions:\n",
      "- Use a data structure that matches the device ordinal in the booster.\n",
      "- Set the device for booster before call to inplace_predict.\n",
      "\n",
      "This warning will only be shown once.\n",
      "\n",
      "  return func(**kwargs)\n",
      "/home/mathias-nord/Desktop/Programmering/PacketAnalyzer/venv/lib/python3.12/site-packages/xgboost/core.py:729: UserWarning: [16:29:15] WARNING: /workspace/src/common/error_msg.cc:58: Falling back to prediction using DMatrix due to mismatched devices. This might lead to higher memory usage and slower performance. XGBoost is running on: cuda:0, while the input data is on: cpu.\n",
      "Potential solutions:\n",
      "- Use a data structure that matches the device ordinal in the booster.\n",
      "- Set the device for booster before call to inplace_predict.\n",
      "\n",
      "This warning will only be shown once.\n",
      "\n",
      "  return func(**kwargs)\n"
     ]
    },
    {
     "name": "stdout",
     "output_type": "stream",
     "text": [
      "[CV] END model__learning_rate=0.2, model__max_depth=10, model__n_estimators=100, model__subsample=1.0, select__k=20; total time=  53.5s\n",
      "[CV] END model__learning_rate=0.2, model__max_depth=10, model__n_estimators=100, model__subsample=1.0, select__k=20; total time=  53.7s\n"
     ]
    },
    {
     "name": "stderr",
     "output_type": "stream",
     "text": [
      "/home/mathias-nord/Desktop/Programmering/PacketAnalyzer/venv/lib/python3.12/site-packages/xgboost/core.py:729: UserWarning: [16:29:16] WARNING: /workspace/src/common/error_msg.cc:58: Falling back to prediction using DMatrix due to mismatched devices. This might lead to higher memory usage and slower performance. XGBoost is running on: cuda:0, while the input data is on: cpu.\n",
      "Potential solutions:\n",
      "- Use a data structure that matches the device ordinal in the booster.\n",
      "- Set the device for booster before call to inplace_predict.\n",
      "\n",
      "This warning will only be shown once.\n",
      "\n",
      "  return func(**kwargs)\n"
     ]
    },
    {
     "name": "stdout",
     "output_type": "stream",
     "text": [
      "[CV] END model__learning_rate=0.01, model__max_depth=10, model__n_estimators=100, model__subsample=0.8, select__k=all; total time=  55.6s\n",
      "[CV] END model__learning_rate=0.01, model__max_depth=10, model__n_estimators=100, model__subsample=0.8, select__k=all; total time= 1.1min\n",
      "[CV] END model__learning_rate=0.01, model__max_depth=10, model__n_estimators=100, model__subsample=0.8, select__k=all; total time= 1.1min\n",
      "[CV] END model__learning_rate=0.1, model__max_depth=15, model__n_estimators=100, model__subsample=0.8, select__k=30; total time= 1.3min\n",
      "[CV] END model__learning_rate=0.1, model__max_depth=15, model__n_estimators=100, model__subsample=0.8, select__k=30; total time= 1.3min\n",
      "[CV] END model__learning_rate=0.2, model__max_depth=6, model__n_estimators=100, model__subsample=0.8, select__k=20; total time=  37.0s\n",
      "[CV] END model__learning_rate=0.2, model__max_depth=6, model__n_estimators=100, model__subsample=0.8, select__k=20; total time=  38.9s\n",
      "[CV] END model__learning_rate=0.2, model__max_depth=6, model__n_estimators=100, model__subsample=0.8, select__k=20; total time=  38.8s\n",
      "[CV] END model__learning_rate=0.1, model__max_depth=15, model__n_estimators=100, model__subsample=0.8, select__k=30; total time=  60.0s\n",
      "[CV] END model__learning_rate=0.1, model__max_depth=6, model__n_estimators=200, model__subsample=0.8, select__k=10; total time=  57.3s\n",
      "[CV] END model__learning_rate=0.1, model__max_depth=6, model__n_estimators=200, model__subsample=0.8, select__k=10; total time=  57.2s\n",
      "[CV] END model__learning_rate=0.1, model__max_depth=6, model__n_estimators=200, model__subsample=0.8, select__k=10; total time=  57.1s\n",
      "[CV] END model__learning_rate=0.01, model__max_depth=6, model__n_estimators=200, model__subsample=1.0, select__k=10; total time=  53.7s\n",
      "[CV] END model__learning_rate=0.01, model__max_depth=6, model__n_estimators=200, model__subsample=1.0, select__k=10; total time=  50.4s\n",
      "[CV] END model__learning_rate=0.2, model__max_depth=15, model__n_estimators=100, model__subsample=1.0, select__k=10; total time=  40.6s\n",
      "[CV] END model__learning_rate=0.2, model__max_depth=15, model__n_estimators=100, model__subsample=1.0, select__k=10; total time=  38.1s\n",
      "[CV] END model__learning_rate=0.01, model__max_depth=6, model__n_estimators=200, model__subsample=1.0, select__k=10; total time=  48.5s\n",
      "[CV] END model__learning_rate=0.1, model__max_depth=10, model__n_estimators=100, model__subsample=0.8, select__k=20; total time=  43.3s\n",
      "[CV] END model__learning_rate=0.2, model__max_depth=15, model__n_estimators=100, model__subsample=1.0, select__k=10; total time=  45.8s\n",
      "[CV] END model__learning_rate=0.1, model__max_depth=10, model__n_estimators=100, model__subsample=0.8, select__k=20; total time=  43.0s\n",
      "[CV] END model__learning_rate=0.1, model__max_depth=10, model__n_estimators=100, model__subsample=0.8, select__k=20; total time=  42.6s\n",
      "[CV] END model__learning_rate=0.1, model__max_depth=10, model__n_estimators=100, model__subsample=0.8, select__k=30; total time=  54.0s\n",
      "[CV] END model__learning_rate=0.1, model__max_depth=10, model__n_estimators=100, model__subsample=0.8, select__k=30; total time=  54.3s\n",
      "[CV] END model__learning_rate=0.1, model__max_depth=10, model__n_estimators=100, model__subsample=0.8, select__k=30; total time=  53.7s\n",
      "[CV] END model__learning_rate=0.01, model__max_depth=10, model__n_estimators=100, model__subsample=0.8, select__k=30; total time=  52.0s\n",
      "[CV] END model__learning_rate=0.01, model__max_depth=10, model__n_estimators=100, model__subsample=0.8, select__k=30; total time=  29.8s\n",
      "[CV] END model__learning_rate=0.01, model__max_depth=10, model__n_estimators=100, model__subsample=0.8, select__k=30; total time=  29.8s\n",
      "Best Parameters: {'select__k': 'all', 'model__subsample': 0.8, 'model__n_estimators': 100, 'model__max_depth': 10, 'model__learning_rate': 0.01}\n",
      "Best F1 Score: 0.9916656319074884\n"
     ]
    }
   ],
   "source": [
    "random_search.fit(X_train, y_train, model__sample_weight=sample_weights)\n",
    "\n",
    "best_model = random_search.best_estimator_\n",
    "joblib.dump(random_search.best_estimator_, \"network_intrusion_model.pkl\")\n",
    "\n",
    "print(\"Best Parameters:\", random_search.best_params_)\n",
    "print(\"Best F1 Score:\", random_search.best_score_)"
   ]
  },
  {
   "cell_type": "code",
   "execution_count": 18,
   "metadata": {},
   "outputs": [],
   "source": [
    "loaded_model = joblib.load(\"network_intrusion_model.pkl\")\n",
    "y_pred = loaded_model.predict(X_test)"
   ]
  },
  {
   "cell_type": "markdown",
   "metadata": {},
   "source": [
    "Printing a report of the classification."
   ]
  },
  {
   "cell_type": "code",
   "execution_count": 19,
   "metadata": {},
   "outputs": [
    {
     "name": "stdout",
     "output_type": "stream",
     "text": [
      "                            precision    recall  f1-score   support\n",
      "\n",
      "                    BENIGN       1.00      0.99      0.99    454620\n",
      "                       Bot       0.15      1.00      0.26       393\n",
      "                      DDoS       1.00      1.00      1.00     25606\n",
      "             DoS GoldenEye       0.90      1.00      0.95      2059\n",
      "                  DoS Hulk       0.99      1.00      1.00     46215\n",
      "          DoS Slowhttptest       0.90      0.99      0.94      1100\n",
      "             DoS slowloris       0.80      1.00      0.89      1159\n",
      "               FTP-Patator       0.97      1.00      0.98      1588\n",
      "                Heartbleed       0.50      1.00      0.67         2\n",
      "              Infiltration       0.47      1.00      0.64         7\n",
      "                  PortScan       0.99      1.00      1.00     31786\n",
      "               SSH-Patator       0.68      1.00      0.81      1179\n",
      "  Web Attack � Brute Force       0.21      0.67      0.32       301\n",
      "Web Attack � Sql Injection       0.11      0.50      0.17         4\n",
      "          Web Attack � XSS       0.07      0.66      0.12       130\n",
      "\n",
      "                  accuracy                           0.99    566149\n",
      "                 macro avg       0.65      0.92      0.72    566149\n",
      "              weighted avg       1.00      0.99      0.99    566149\n",
      "\n"
     ]
    }
   ],
   "source": [
    "print(classification_report(y_test, y_pred, target_names=le.classes_))"
   ]
  }
 ],
 "metadata": {
  "kernelspec": {
   "display_name": "venv",
   "language": "python",
   "name": "python3"
  },
  "language_info": {
   "codemirror_mode": {
    "name": "ipython",
    "version": 3
   },
   "file_extension": ".py",
   "mimetype": "text/x-python",
   "name": "python",
   "nbconvert_exporter": "python",
   "pygments_lexer": "ipython3",
   "version": "3.12.3"
  }
 },
 "nbformat": 4,
 "nbformat_minor": 2
}
